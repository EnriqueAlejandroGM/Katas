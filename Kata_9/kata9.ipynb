{
 "cells": [
  {
   "cell_type": "code",
   "execution_count": 4,
   "metadata": {},
   "outputs": [
    {
     "name": "stdout",
     "output_type": "stream",
     "text": [
      "Reporte de combustible:\n",
      "    Promedio Total: 78.33333333333333%\n",
      "    Tanque 1: 80%\n",
      "    Tanque 2: 70%\n",
      "    Tanque 3: 85% \n",
      "    \n"
     ]
    }
   ],
   "source": [
    "def generarReporte(tanque1, tanque2, tanque3):\n",
    "    return f\"\"\"Reporte de combustible:\n",
    "    Promedio Total: {promedio([tanque1, tanque2, tanque3])}%\n",
    "    Tanque 1: {tanque1}%\n",
    "    Tanque 2: {tanque2}%\n",
    "    Tanque 3: {tanque3}% \n",
    "    \"\"\"\n",
    "def promedio(valores):\n",
    "    total = sum(valores)\n",
    "    numeroTanques = len(valores)\n",
    "    return total / numeroTanques\n",
    "print(generarReporte(80, 70, 85))"
   ]
  },
  {
   "cell_type": "code",
   "execution_count": 14,
   "metadata": {},
   "outputs": [
    {
     "name": "stdout",
     "output_type": "stream",
     "text": [
      "\n",
      "    Mision a Moon\n",
      "    Tiempo total de vuelo: 74 minutos\n",
      "    Combustible total restante: 500000 galones\n",
      "    Tanque Principal le quedan 300000 galones restantes\n",
      "Tanque Externo le quedan 200000 galones restantes\n",
      "\n"
     ]
    }
   ],
   "source": [
    "def reporteMision(destino, *minutes, **fuel_reservoirs):\n",
    "    reporte = f\"\"\"\n",
    "    Mision a {destino}\n",
    "    Tiempo total de vuelo: {sum(minutes)} minutos\n",
    "    Combustible total restante: {sum(fuel_reservoirs.values())} galones\n",
    "    \"\"\"\n",
    "    for nombreTanque, galones in fuel_reservoirs.items():\n",
    "        reporte += f\"Tanque {nombreTanque} le quedan {galones} galones restantes\\n\"\n",
    "    return reporte\n",
    "\n",
    "print(reporteMision(\"Moon\", 8, 11, 55, Principal=300000, Externo=200000))"
   ]
  }
 ],
 "metadata": {
  "interpreter": {
   "hash": "65f68ba2cbcdf4c158e9c054cac2a87239c10879876a8dabb83492b40e1bb3fe"
  },
  "kernelspec": {
   "display_name": "Python 3.10.2 64-bit (windows store)",
   "language": "python",
   "name": "python3"
  },
  "language_info": {
   "codemirror_mode": {
    "name": "ipython",
    "version": 3
   },
   "file_extension": ".py",
   "mimetype": "text/x-python",
   "name": "python",
   "nbconvert_exporter": "python",
   "pygments_lexer": "ipython3",
   "version": "3.10.2"
  },
  "orig_nbformat": 4
 },
 "nbformat": 4,
 "nbformat_minor": 2
}
