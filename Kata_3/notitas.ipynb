{
 "cells": [
  {
   "cell_type": "markdown",
   "metadata": {},
   "source": [
    "## Lógica Booleana\n",
    "Básicamente \"if\" y los resultados \"true\" y \"false\"\n",
    "# Operadores matemáticos\n",
    "  -Igual a (a == b)\n",
    "  -No es igual (a != b)\n",
    "  -Menor que (a < b)\n",
    "  -Manor o igual que (a <= b)\n",
    "  -Mayor que (a > b)\n",
    "  -Mayor o igual que (a >= b)\n",
    "  "
   ]
  },
  {
   "cell_type": "code",
   "execution_count": 7,
   "metadata": {},
   "outputs": [],
   "source": [
    "# Tip de práctica 1: Intenta ejecutarlo en un notebook.\n",
    "a = 97\n",
    "b = 55\n",
    "# test expression / expresión de prueba\n",
    "if a < b:\n",
    "    # statement to be run / instrucción a ejecutar\n",
    "    print(b)"
   ]
  },
  {
   "cell_type": "markdown",
   "metadata": {},
   "source": [
    "## Escribir Declaraciones\n",
    "Se utiliza la sintaxis de siempre:\n",
    "if exoresion_prueba:\n",
    "    # instrucción(es) a ejecutar"
   ]
  },
  {
   "cell_type": "code",
   "execution_count": 8,
   "metadata": {},
   "outputs": [
    {
     "name": "stdout",
     "output_type": "stream",
     "text": [
      "93\n"
     ]
    }
   ],
   "source": [
    "# Ejemplo 2\n",
    "a = 93\n",
    "b = 27\n",
    "if a >= b:\n",
    "    print(a)"
   ]
  },
  {
   "cell_type": "markdown",
   "metadata": {},
   "source": [
    "## Leer una declaración\n",
    "A la letra 'a' le asigno el valor de 93.\n",
    "A la letra 'b' le asigno el valor de 27.\n",
    "SI a(93) es mayor o igual a b(27) entonces:\n",
    "Muestra (print) el valor de a(93)\n",
    "\n",
    "La instrucción \"if\" en Python siempre debe ir indentada."
   ]
  },
  {
   "cell_type": "code",
   "execution_count": 9,
   "metadata": {},
   "outputs": [
    {
     "name": "stdout",
     "output_type": "stream",
     "text": [
      "44\n"
     ]
    }
   ],
   "source": [
    "# Ejemplo 3\n",
    "a = 24\n",
    "b = 44\n",
    "if a <= 0:\n",
    "    print(a)\n",
    "print(b)"
   ]
  },
  {
   "cell_type": "markdown",
   "metadata": {},
   "source": [
    "## Else y elif (Else if)\n",
    "Lo mismo que una declaración en cualquier otro lenguaje utilizando \"else\" y \"else if\" solo que se contrae a \"elif\"\n",
    "\n",
    "# else\n",
    "if expresion_prueba:\n",
    "    # instrucción(es) a ejecutar\n",
    "else:\n",
    "    # instrucción(es) a ejecutar\n",
    "\n",
    "# elif\n",
    "if expresion_prueba:\n",
    "    # instrucción(es) a ejecutar\n",
    "elif expresion_prueba:\n",
    "    # instrucción(es) a ejecutar\n",
    "\n",
    "# if, else y elif anidados\n",
    "if expresion_prueba:\n",
    "    # instrucción(es) a ejecutar\n",
    "elif expresion_prueba:\n",
    "    # instrucción(es) a ejecutar\n",
    "elif expresion_prueba:\n",
    "    # instrucción(es) a ejecutar\n",
    "else:\n",
    "    # instrucción(es) a ejecutar"
   ]
  },
  {
   "cell_type": "markdown",
   "metadata": {},
   "source": [
    "## and y or\n",
    "Son básicamente en java los && y ||, pero aquí se escribe:\n",
    "\"and\" y \"or\""
   ]
  }
 ],
 "metadata": {
  "interpreter": {
   "hash": "65f68ba2cbcdf4c158e9c054cac2a87239c10879876a8dabb83492b40e1bb3fe"
  },
  "kernelspec": {
   "display_name": "Python 3.10.2 64-bit (windows store)",
   "language": "python",
   "name": "python3"
  },
  "language_info": {
   "codemirror_mode": {
    "name": "ipython",
    "version": 3
   },
   "file_extension": ".py",
   "mimetype": "text/x-python",
   "name": "python",
   "nbconvert_exporter": "python",
   "pygments_lexer": "ipython3",
   "version": "3.10.2"
  },
  "orig_nbformat": 4
 },
 "nbformat": 4,
 "nbformat_minor": 2
}
