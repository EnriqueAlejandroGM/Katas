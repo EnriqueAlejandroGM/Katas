{
 "cells": [
  {
   "cell_type": "markdown",
   "metadata": {},
   "source": [
    "## Crear un entorno virtual en Python\n",
    "Para crear un entorno virtual se utiliza en el directorio donde se quiera hacer:\n",
    "- python3 -m venv\n",
    "\n",
    "Donde:\n",
    "python3: La versión de python a utilizar.\n",
    "venv: Llamada al módulo venv conocido como virtual environment.\n",
    "env: Nombre de nuestro entorno virtual."
   ]
  },
  {
   "cell_type": "markdown",
   "metadata": {},
   "source": [
    "## Sugerencias\n",
    "El entorno necesita el directorio venv para realizar un seguimiento de detalles como qué versión de Python y qué bibliotecas está utilizando. No coloque los archivos de programa en el directorio venv. Te sugerimos que coloques tus archivos en el directorio src o algo similar."
   ]
  },
  {
   "cell_type": "markdown",
   "metadata": {},
   "source": [
    "## Iniciar un entorno virtual\n",
    "En este punto, tienes un entorno virtual, pero no has comenzado a usarlo. Para usarlo, debes activarlo llamando activate a un script en tu directorio env.\n",
    "\n",
    "# Consola Windows\n",
    "env\\scripts\\activate\n",
    "# Linux o MacOS\n",
    "source env/bin/activate"
   ]
  },
  {
   "cell_type": "markdown",
   "metadata": {},
   "source": [
    "## Instalar un paquete\n",
    "Instalar un paquete mediante pip. El comando pip utiliza el Python Package Index, o PyPi para abreviar, para saber dónde obtener los paquetes. Puedes visitar el sitio web de PyPi para conocer qué paquetes están disponibles.\n",
    "\n",
    "# Bash \n",
    "pip install python-dateutil\n",
    "(si es en una notebook es !pip install python-dateutil)\n",
    "\n",
    "## Ver paquetes instalados\n",
    "Se utiliza:\n",
    "pip freeze\n",
    "(En notebook !pip freeze)"
   ]
  },
  {
   "cell_type": "markdown",
   "metadata": {},
   "source": [
    "## Salir del entorno\n",
    "Se utiliza:\n",
    "deactivate"
   ]
  },
  {
   "cell_type": "markdown",
   "metadata": {},
   "source": [
    "## Otra forma de instalar un paquete\n",
    "- Teniendo un conjunto de archivos en la máquina e instalándolos desde esa fuente:\n",
    "# Bash | Consola\n",
    "  cd <to where the package is on your machine>\n",
    "  python3 -m pip install .\n",
    "- Instalar desde un repositorio de GitHub que nos proporciona el control de versiones:\n",
    "  git+https://github.com/your-repo.git\n",
    "- Instalar desde un archivo comprimido:\n",
    "  python3 -m pip install package.tar.gz"
   ]
  },
  {
   "cell_type": "markdown",
   "metadata": {},
   "source": [
    "## Utilizar un paquete instalado\n",
    "Te sugerimos que llames al directorio (folder) src y agregues un archivo Python llamado app.py. Ahora agrega un poco de código para llamar al comando pipdate:\n",
    "\n",
    " from datetime import *\n",
    "  from dateutil.relativedelta import *\n",
    "  now = datetime.now()\n",
    "  print(now)\n",
    "\n",
    "  now = now + relativedelta(months=1, weeks=1, hour=10)\n",
    "\n",
    "  print(now)"
   ]
  }
 ],
 "metadata": {
  "language_info": {
   "name": "python"
  },
  "orig_nbformat": 4
 },
 "nbformat": 4,
 "nbformat_minor": 2
}
